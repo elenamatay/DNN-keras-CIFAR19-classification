{
 "cells": [
  {
   "cell_type": "markdown",
   "id": "bd31ba2d-30de-49a1-a4c6-f89795618eb0",
   "metadata": {},
   "source": [
    "# Installs\n",
    "\n",
    "For the purpose of completing this notebook, I created a virtual environment (aka venv). Python virtual environments are used to create an isolated environment for Python projects. Each project can have its own Python version and its own dependencies, regardless of what dependencies every other project has. In this case, in my new venv I installed tensorflow (using `conda install -c conda-forge tensorflow` from the terminal after creating and activating the venv), keras, matplotlib, mlflow, and others. Instructions to easily create a venv in a Vertex Workbench notebook [here](https://medium.com/google-cloud/upgrade-google-vertex-ai-workbench-notebook-python-version-64ee1d8b4a9)."
   ]
  },
  {
   "cell_type": "code",
   "execution_count": 55,
   "id": "e418a0d1-a616-40c5-b7ee-39ed4b2198a6",
   "metadata": {},
   "outputs": [],
   "source": [
    "!pip3 install --upgrade --q google-cloud-aiplatform"
   ]
  },
  {
   "cell_type": "markdown",
   "id": "152567ae-d41e-4335-a76e-35e21416f6d0",
   "metadata": {},
   "source": [
    "# Imports"
   ]
  },
  {
   "cell_type": "code",
   "execution_count": 56,
   "id": "9a69194d-d1a2-44d5-9c86-34ec1779a9a2",
   "metadata": {},
   "outputs": [],
   "source": [
    "import tensorflow\n",
    "from numpy.random import seed\n",
    "\n",
    "seed(888)\n",
    "tensorflow.random.set_seed(404)"
   ]
  },
  {
   "cell_type": "code",
   "execution_count": 57,
   "id": "84f4691d-94a8-49c9-9fe2-a01124bef78b",
   "metadata": {},
   "outputs": [],
   "source": [
    "import os\n",
    "import numpy as np\n",
    "import tensorflow as tf\n",
    "import itertools\n",
    "\n",
    "from time import strftime\n",
    "\n",
    "from google.cloud import aiplatform as vertexai\n",
    "import mlflow\n",
    "\n",
    "import keras\n",
    "from keras.datasets import cifar10\n",
    "from keras.models import Sequential\n",
    "from keras.layers import Dense, Activation, Dropout\n",
    "from keras.callbacks import TensorBoard\n",
    "\n",
    "from IPython.display import display\n",
    "from tensorflow.keras.utils import array_to_img\n",
    "from keras.callbacks import TensorBoard\n",
    "\n",
    "from time import strftime\n",
    "\n",
    "from sklearn.metrics import confusion_matrix\n",
    "\n",
    "import matplotlib.pyplot as plt\n",
    "\n",
    "%matplotlib inline"
   ]
  },
  {
   "cell_type": "markdown",
   "id": "80ed94c1-342e-4c86-a047-8275bbe7f3a5",
   "metadata": {},
   "source": [
    "# Constants"
   ]
  },
  {
   "cell_type": "code",
   "execution_count": 123,
   "id": "dd5d385b-6639-4264-ad72-30f3aab131aa",
   "metadata": {},
   "outputs": [],
   "source": [
    "LOG_DIR = 'tensorboard_cifar_logs/'\n",
    "\n",
    "LABEL_NAMES = ['Plane', 'Car', 'Bird', 'Cat', 'Deer', 'Dog', 'Frog', 'Horse', 'Ship', 'Truck']\n",
    "IMAGE_WIDTH = 32\n",
    "IMAGE_HEIGHT = 32\n",
    "IMAGE_PIXELS = IMAGE_WIDTH * IMAGE_HEIGHT\n",
    "COLOR_CHANNELS = 3\n",
    "TOTAL_INPUTS = IMAGE_PIXELS * COLOR_CHANNELS\n",
    "NR_CLASSES = 10\n",
    "\n",
    "VALIDATION_SIZE = 10000\n",
    "TRAINING_SIZE = 40000\n",
    "SMALL_TRAIN_SIZE = 1000\n",
    "\n",
    "# For autologging the experiment with Tensorboard:\n",
    "PROJECT_ID = 'testing-elena'\n",
    "REGION = 'us-central1'\n",
    "BUCKET_URI = 'gs://experiments-workshop'\n",
    "AUTOLOGGED_EXPERIMENT_NAME = \"cifar10-tf-experiment\"\n",
    "EXP_TENSORBOARD = \"projects/1080686785400/locations/us-central1/tensorboards/8684831241570091008\""
   ]
  },
  {
   "cell_type": "markdown",
   "id": "7d69007e-9448-4b56-a064-57578e93af0f",
   "metadata": {},
   "source": [
    "# Get the Data"
   ]
  },
  {
   "cell_type": "code",
   "execution_count": 59,
   "id": "6902db69-2153-490d-ad0e-ef2f821962fd",
   "metadata": {},
   "outputs": [],
   "source": [
    "(x_train_all, y_train_all), (x_test, y_test) = cifar10.load_data()"
   ]
  },
  {
   "cell_type": "code",
   "execution_count": 60,
   "id": "d87038bd-a3e6-4743-bee8-5dd27a96981a",
   "metadata": {},
   "outputs": [
    {
     "data": {
      "text/plain": [
       "module"
      ]
     },
     "execution_count": 60,
     "metadata": {},
     "output_type": "execute_result"
    }
   ],
   "source": [
    "type(cifar10)"
   ]
  },
  {
   "cell_type": "code",
   "execution_count": 61,
   "id": "99dbed0f-30da-45af-8c5b-ebad512c3826",
   "metadata": {},
   "outputs": [
    {
     "data": {
      "text/plain": [
       "numpy.ndarray"
      ]
     },
     "execution_count": 61,
     "metadata": {},
     "output_type": "execute_result"
    }
   ],
   "source": [
    "type(x_train_all)"
   ]
  },
  {
   "cell_type": "markdown",
   "id": "18852d76-afe7-4b8f-a2fe-26941ee84972",
   "metadata": {},
   "source": [
    "# Explore the Data"
   ]
  },
  {
   "cell_type": "code",
   "execution_count": 62,
   "id": "45415719-998f-48ec-a86b-bf632f6b4edb",
   "metadata": {},
   "outputs": [
    {
     "data": {
      "text/plain": [
       "array([[[ 59,  62,  63],\n",
       "        [ 43,  46,  45],\n",
       "        [ 50,  48,  43],\n",
       "        ...,\n",
       "        [158, 132, 108],\n",
       "        [152, 125, 102],\n",
       "        [148, 124, 103]],\n",
       "\n",
       "       [[ 16,  20,  20],\n",
       "        [  0,   0,   0],\n",
       "        [ 18,   8,   0],\n",
       "        ...,\n",
       "        [123,  88,  55],\n",
       "        [119,  83,  50],\n",
       "        [122,  87,  57]],\n",
       "\n",
       "       [[ 25,  24,  21],\n",
       "        [ 16,   7,   0],\n",
       "        [ 49,  27,   8],\n",
       "        ...,\n",
       "        [118,  84,  50],\n",
       "        [120,  84,  50],\n",
       "        [109,  73,  42]],\n",
       "\n",
       "       ...,\n",
       "\n",
       "       [[208, 170,  96],\n",
       "        [201, 153,  34],\n",
       "        [198, 161,  26],\n",
       "        ...,\n",
       "        [160, 133,  70],\n",
       "        [ 56,  31,   7],\n",
       "        [ 53,  34,  20]],\n",
       "\n",
       "       [[180, 139,  96],\n",
       "        [173, 123,  42],\n",
       "        [186, 144,  30],\n",
       "        ...,\n",
       "        [184, 148,  94],\n",
       "        [ 97,  62,  34],\n",
       "        [ 83,  53,  34]],\n",
       "\n",
       "       [[177, 144, 116],\n",
       "        [168, 129,  94],\n",
       "        [179, 142,  87],\n",
       "        ...,\n",
       "        [216, 184, 140],\n",
       "        [151, 118,  84],\n",
       "        [123,  92,  72]]], dtype=uint8)"
      ]
     },
     "execution_count": 62,
     "metadata": {},
     "output_type": "execute_result"
    }
   ],
   "source": [
    "x_train_all[0]"
   ]
  },
  {
   "cell_type": "code",
   "execution_count": 63,
   "id": "d642f0a1-392c-4144-8962-a8853e2c996c",
   "metadata": {},
   "outputs": [
    {
     "data": {
      "image/png": "[encoded data removed]",
      "text/plain": [
       "<PIL.Image.Image image mode=RGB size=32x32>"
      ]
     },
     "metadata": {},
     "output_type": "display_data"
    }
   ],
   "source": [
    "pic = array_to_img(x_train_all[7])\n",
    "display(pic)"
   ]
  },
  {
   "cell_type": "code",
   "execution_count": 64,
   "id": "b960f38f-e2e5-4c0f-8915-59b9eb7a54ef",
   "metadata": {},
   "outputs": [
    {
     "data": {
      "text/plain": [
       "(50000, 1)"
      ]
     },
     "execution_count": 64,
     "metadata": {},
     "output_type": "execute_result"
    }
   ],
   "source": [
    "y_train_all.shape"
   ]
  },
  {
   "cell_type": "code",
   "execution_count": 65,
   "id": "4b6268e7-510d-4ecc-82c8-821cf1442301",
   "metadata": {},
   "outputs": [
    {
     "data": {
      "text/plain": [
       "7"
      ]
     },
     "execution_count": 65,
     "metadata": {},
     "output_type": "execute_result"
    }
   ],
   "source": [
    "y_train_all[7][0]"
   ]
  },
  {
   "cell_type": "code",
   "execution_count": 66,
   "id": "235058e3-b482-427b-b984-a72bc578030e",
   "metadata": {},
   "outputs": [
    {
     "data": {
      "text/plain": [
       "'Horse'"
      ]
     },
     "execution_count": 66,
     "metadata": {},
     "output_type": "execute_result"
    }
   ],
   "source": [
    "LABEL_NAMES[y_train_all[7][0]]"
   ]
  },
  {
   "cell_type": "code",
   "execution_count": 67,
   "id": "798fe949-3685-4049-9362-90abdd3310cf",
   "metadata": {},
   "outputs": [
    {
     "data": {
      "image/png": "[encoded data removed]",
      "text/plain": [
       "<Figure size 640x480 with 1 Axes>"
      ]
     },
     "metadata": {},
     "output_type": "display_data"
    }
   ],
   "source": [
    "plt.imshow(x_train_all[4])\n",
    "plt.xlabel(LABEL_NAMES[y_train_all[4][0]], fontsize=15)\n",
    "plt.show()"
   ]
  },
  {
   "cell_type": "markdown",
   "id": "4774b012-d543-4b3a-a294-9055d863117b",
   "metadata": {},
   "source": [
    "**Challenge**: Write a for loop to display the first 10 images from the `x_train_all` array in a row. Show the name of the label below the picture. Remove the ugly tick marks. Hint use matplotlib."
   ]
  },
  {
   "cell_type": "code",
   "execution_count": 68,
   "id": "2b7f8a74-9eb3-4366-bfec-958a31f9fe42",
   "metadata": {},
   "outputs": [
    {
     "data": {
      "image/png": "[encoded data removed]",
      "text/plain": [
       "<Figure size 1500x500 with 10 Axes>"
      ]
     },
     "metadata": {},
     "output_type": "display_data"
    }
   ],
   "source": [
    "plt.figure(figsize=(15,5))\n",
    "\n",
    "for i in range(10):\n",
    "    plt.subplot(1, 10, i+1)\n",
    "    plt.imshow(x_train_all[i])\n",
    "    plt.xlabel(LABEL_NAMES[y_train_all[i][0]], fontsize=14)\n",
    "    plt.xticks([]) # Remove X ticks\n",
    "    plt.yticks([]) # Remove Y ticks\n",
    "\n",
    "plt.show()"
   ]
  },
  {
   "cell_type": "code",
   "execution_count": 69,
   "id": "0b3ddab1-59ae-4e3d-9f53-24b087f6f0af",
   "metadata": {},
   "outputs": [
    {
     "data": {
      "text/plain": [
       "(32, 32, 3)"
      ]
     },
     "execution_count": 69,
     "metadata": {},
     "output_type": "execute_result"
    }
   ],
   "source": [
    "x_train_all[0].shape # see images dimensions"
   ]
  },
  {
   "cell_type": "code",
   "execution_count": 70,
   "id": "d386d8ef-24c1-4a3a-89c3-511cde569a10",
   "metadata": {},
   "outputs": [
    {
     "name": "stdout",
     "output_type": "stream",
     "text": [
      "training images = 50000 \t| width = 32 \t| height = 32 \t| channels = 3\n"
     ]
    }
   ],
   "source": [
    "nr_images, x, y, c = x_train_all.shape\n",
    "print(f'training images = {nr_images} \\t| width = {x} \\t| height = {y} \\t| channels = {c}')"
   ]
  },
  {
   "cell_type": "code",
   "execution_count": 71,
   "id": "6f8bd810-1d5c-4cb9-bbb2-e75db7f93fd8",
   "metadata": {},
   "outputs": [
    {
     "data": {
      "text/plain": [
       "(10000, 32, 32, 3)"
      ]
     },
     "execution_count": 71,
     "metadata": {},
     "output_type": "execute_result"
    }
   ],
   "source": [
    "x_test.shape"
   ]
  },
  {
   "cell_type": "markdown",
   "id": "d9706ed8-f910-4f1c-a5df-918593653c2f",
   "metadata": {},
   "source": [
    "We see  that we have 50,000 training images and 10,000 testing ones. We also know that each image is 32x32 pixels, and that each pixel has 3 channels (corresponding to RGB)."
   ]
  },
  {
   "cell_type": "markdown",
   "id": "1de1877d-3b0d-4b3e-b95e-3ccafddfc7f2",
   "metadata": {},
   "source": [
    "# Preprocess Data"
   ]
  },
  {
   "cell_type": "code",
   "execution_count": 72,
   "id": "3703fba5-52d5-41a9-9fc0-131c28bc2cb8",
   "metadata": {},
   "outputs": [
    {
     "data": {
      "text/plain": [
       "numpy.uint8"
      ]
     },
     "execution_count": 72,
     "metadata": {},
     "output_type": "execute_result"
    }
   ],
   "source": [
    "type(x_train_all[0][0][0][0])"
   ]
  },
  {
   "cell_type": "markdown",
   "id": "a2a75c27-507b-4751-9bcf-93c1e84d7f67",
   "metadata": {},
   "source": [
    "All these (pixel) values are of type uint (unsigned integer, i.e. a positive number), and between 0 and 255. Thinking about later calculations for our model (e.g. loss function, weights adjustment) using the learning rate, which is a really low value, it will be more convenient to make these numbers smaller. Let's divide everything by 255, having a float between 0 and 1 for each RBG value (instead of between 0 and 255).\n"
   ]
  },
  {
   "cell_type": "code",
   "execution_count": 73,
   "id": "1db38b5c-6407-4b6c-9246-62e9032fe571",
   "metadata": {},
   "outputs": [],
   "source": [
    "x_train_all, x_test = x_train_all / 255.0, x_test / 255.0"
   ]
  },
  {
   "cell_type": "code",
   "execution_count": 74,
   "id": "5830b2c8-d059-4e68-87c1-fa004d8e8758",
   "metadata": {},
   "outputs": [
    {
     "data": {
      "text/plain": [
       "numpy.float64"
      ]
     },
     "execution_count": 74,
     "metadata": {},
     "output_type": "execute_result"
    }
   ],
   "source": [
    "type(x_train_all[0][0][0][0])"
   ]
  },
  {
   "cell_type": "markdown",
   "id": "42a75f54-03fb-4ffa-a78e-d9f9dbd77674",
   "metadata": {},
   "source": [
    "Now, we want to flatten out our dataset. Instead of having 4 dimensions, it would be more convenient to have a single vector, a single row of values, to have the three dimensions of one single image. We do this using [.reshape(array_to_be_reshaped, new_shape)](https://numpy.org/doc/stable/reference/generated/numpy.reshape.html). We will reshape the x_train_all[0] subarray from x_train_all."
   ]
  },
  {
   "cell_type": "code",
   "execution_count": 75,
   "id": "d3e58b09-9384-4277-932b-17fbdf17101a",
   "metadata": {},
   "outputs": [
    {
     "data": {
      "text/plain": [
       "(50000, 32, 32, 3)"
      ]
     },
     "execution_count": 75,
     "metadata": {},
     "output_type": "execute_result"
    }
   ],
   "source": [
    "x_train_all.shape"
   ]
  },
  {
   "cell_type": "code",
   "execution_count": 76,
   "id": "58ef0e84-d3b1-42ef-9a75-41d946e3f1ac",
   "metadata": {},
   "outputs": [
    {
     "data": {
      "text/plain": [
       "(32, 32, 3)"
      ]
     },
     "execution_count": 76,
     "metadata": {},
     "output_type": "execute_result"
    }
   ],
   "source": [
    "x_train_all[0].shape # Single image shape"
   ]
  },
  {
   "cell_type": "code",
   "execution_count": 77,
   "id": "b5b12058-c3a4-4711-85df-d3e2bc586989",
   "metadata": {},
   "outputs": [],
   "source": [
    "x_train_all = x_train_all.reshape(x_train_all.shape[0], TOTAL_INPUTS) # TOTAL_INPUTS defined in our constants: IMAGE_WIDTH * IMAGE_HEIGHT * COLOR_CHANNELS"
   ]
  },
  {
   "cell_type": "code",
   "execution_count": 78,
   "id": "39b372b7-72d2-40b3-a605-4ed479ee8522",
   "metadata": {},
   "outputs": [
    {
     "data": {
      "text/plain": [
       "(50000, 3072)"
      ]
     },
     "execution_count": 78,
     "metadata": {},
     "output_type": "execute_result"
    }
   ],
   "source": [
    "x_train_all.shape"
   ]
  },
  {
   "cell_type": "code",
   "execution_count": 79,
   "id": "05e49236-5adf-4de3-8722-f87174412a7e",
   "metadata": {},
   "outputs": [
    {
     "data": {
      "text/plain": [
       "(10000, 32, 32, 3)"
      ]
     },
     "execution_count": 79,
     "metadata": {},
     "output_type": "execute_result"
    }
   ],
   "source": [
    "x_test.shape"
   ]
  },
  {
   "cell_type": "code",
   "execution_count": 80,
   "id": "bf051da4-5de3-41cd-9281-25c7f963f834",
   "metadata": {},
   "outputs": [
    {
     "name": "stdout",
     "output_type": "stream",
     "text": [
      "Shape of x_test is (10000, 3072)\n"
     ]
    }
   ],
   "source": [
    "x_test = x_test.reshape(x_test.shape[0], TOTAL_INPUTS)\n",
    "print(f'Shape of x_test is {x_test.shape}')"
   ]
  },
  {
   "cell_type": "markdown",
   "id": "4bd096c3-e860-410f-b2dd-f2143a076ece",
   "metadata": {},
   "source": [
    "# Create Validation Dataset"
   ]
  },
  {
   "cell_type": "markdown",
   "id": "b3b803cf-df6a-4636-bbb8-b8b22ab7af72",
   "metadata": {},
   "source": [
    "As our test dataset is already the 20% of the training one, we will use other 20% (other 10,000 examples) for the validation dataset. Then store the remaining training dataset as our final training dataset."
   ]
  },
  {
   "cell_type": "code",
   "execution_count": 81,
   "id": "8e30093a-7202-4d60-a3dc-f25dc4cc865a",
   "metadata": {},
   "outputs": [
    {
     "data": {
      "text/plain": [
       "(10000, 3072)"
      ]
     },
     "execution_count": 81,
     "metadata": {},
     "output_type": "execute_result"
    }
   ],
   "source": [
    "x_val = x_train_all[:VALIDATION_SIZE]\n",
    "y_val = y_train_all[:VALIDATION_SIZE]\n",
    "\n",
    "x_val.shape"
   ]
  },
  {
   "cell_type": "markdown",
   "id": "7a92717b-8a4f-4075-b3f0-0e6419dc63ae",
   "metadata": {},
   "source": [
    "**Challenge:** Create two numpy arrays x_train and y_train that have the shape (40000, 3072) and (40000, 1) respectively. They need to contain the last 40000 values from x_train_all and y_train_all respectively."
   ]
  },
  {
   "cell_type": "code",
   "execution_count": 82,
   "id": "7bba842c-944a-4b7b-a387-3f3dd5237a2d",
   "metadata": {},
   "outputs": [
    {
     "data": {
      "text/plain": [
       "(40000, 3072)"
      ]
     },
     "execution_count": 82,
     "metadata": {},
     "output_type": "execute_result"
    }
   ],
   "source": [
    "x_train = x_train_all[VALIDATION_SIZE:]\n",
    "y_train = y_train_all[VALIDATION_SIZE:]\n",
    "\n",
    "x_train.shape"
   ]
  },
  {
   "cell_type": "markdown",
   "id": "5e4b2bdf-9f69-44b7-9c23-952d84bd3969",
   "metadata": {},
   "source": [
    "**Note:** In order to accelerate the training process, it's common to create a small training dataset, e.g. `x_train_xs` and `y_train_xs` only for this testing phase, and then once we're happy with the result and our EDA process, we use our bigger training dataset again. We won't do it in this case."
   ]
  },
  {
   "cell_type": "markdown",
   "id": "a40e104c-e1e5-47ac-9d4a-b13c4a31305b",
   "metadata": {},
   "source": [
    "# Define  & Compile the Neural Network using Keras\n",
    "\n",
    "Code to create our perceptron:"
   ]
  },
  {
   "cell_type": "code",
   "execution_count": 83,
   "id": "6bb345e9-c594-4c89-ae8d-2b119add7b50",
   "metadata": {},
   "outputs": [],
   "source": [
    "model_1 = Sequential([\n",
    "    Dense(units=128, input_dim=TOTAL_INPUTS, activation='relu', name='m1_hidden1'), # First hidden layer\n",
    "    Dense(units=64, activation='relu', name='m1_hidden2'), # Second hidden layer, Keras will take the input_dim from the previous cell (128)\n",
    "    Dense(units=16, activation='relu', name='m1_hidden3'), # Third hidden layer,\n",
    "    Dense(units=10, activation='softmax', name='m1_output'), # Output layer using softmax, 10 classes for our images classification\n",
    "])\n",
    "\n",
    "model_1.compile(optimizer='adam', loss='sparse_categorical_crossentropy', metrics=['accuracy'])"
   ]
  },
  {
   "cell_type": "markdown",
   "id": "59565667-70ab-4874-927c-a3f16c6bb7b7",
   "metadata": {},
   "source": [
    "The `Sequential()` function creates a sequential model in Keras. A sequential model is a linear stack of layers, where each layer has exactly one input tensor and one output tensor. This makes it a good choice for simple models with a linear topology."
   ]
  },
  {
   "cell_type": "code",
   "execution_count": 84,
   "id": "296e53d3-d691-4f2b-9002-dc3e17a65156",
   "metadata": {},
   "outputs": [
    {
     "data": {
      "text/plain": [
       "keras.engine.sequential.Sequential"
      ]
     },
     "execution_count": 84,
     "metadata": {},
     "output_type": "execute_result"
    }
   ],
   "source": [
    "type(model_1)"
   ]
  },
  {
   "cell_type": "code",
   "execution_count": 85,
   "id": "c4015ad4-939d-41e2-b8be-0d867a29acf2",
   "metadata": {},
   "outputs": [
    {
     "name": "stdout",
     "output_type": "stream",
     "text": [
      "Model: \"sequential_3\"\n",
      "_________________________________________________________________\n",
      " Layer (type)                Output Shape              Param #   \n",
      "=================================================================\n",
      " m1_hidden1 (Dense)          (None, 128)               393344    \n",
      "                                                                 \n",
      " m1_hidden2 (Dense)          (None, 64)                8256      \n",
      "                                                                 \n",
      " m1_hidden3 (Dense)          (None, 16)                1040      \n",
      "                                                                 \n",
      " m1_output (Dense)           (None, 10)                170       \n",
      "                                                                 \n",
      "=================================================================\n",
      "Total params: 402,810\n",
      "Trainable params: 402,810\n",
      "Non-trainable params: 0\n",
      "_________________________________________________________________\n"
     ]
    }
   ],
   "source": [
    "model_1.summary()"
   ]
  },
  {
   "cell_type": "markdown",
   "id": "85ed1acf-ca8c-4a0f-8378-641981482104",
   "metadata": {},
   "source": [
    "Where does the total number of parameters come from? The number of connections are the number of weights to be calculated. But that are not the only parameters, we also have the bias and the activation functions, which will determine how strong each neuron will fire. When changing the weights, what we're really changing is the activation function, making it more or less steep. When defining a bias, we're really moving the activation function horizontally or vertically."
   ]
  },
  {
   "cell_type": "code",
   "execution_count": 86,
   "id": "1c1e6594-510e-4a40-a35f-7ac1f094d312",
   "metadata": {},
   "outputs": [
    {
     "name": "stdout",
     "output_type": "stream",
     "text": [
      "number of connection weights in the input layer = 393216\n"
     ]
    }
   ],
   "source": [
    "print('number of connection weights in the input layer =', 32*32*3*128)"
   ]
  },
  {
   "cell_type": "code",
   "execution_count": 87,
   "id": "d7acd320-0004-4d3d-b28d-62b80625e31e",
   "metadata": {},
   "outputs": [
    {
     "name": "stdout",
     "output_type": "stream",
     "text": [
      "But each neuron doesn't have just weights, it also has bias terms, so there we have 128 parameters more. So in total, we have 393216+128= 393344 parameters for the first hiden layer.\n"
     ]
    }
   ],
   "source": [
    "print(\"But each neuron doesn't have just weights, it also has bias terms, so there we have\", 128, \"parameters more. So in total, we have 393216+128=\", 393216+128, \"parameters for the first hiden layer.\")"
   ]
  },
  {
   "cell_type": "markdown",
   "id": "e84a8ab3-d17c-40f4-82e9-0a7869632a67",
   "metadata": {},
   "source": [
    "Now we need to do that for each layer in the NN, so in total:"
   ]
  },
  {
   "cell_type": "code",
   "execution_count": 88,
   "id": "16cdcc8d-2a9a-4d1f-9c2a-fbe0038e7f8b",
   "metadata": {},
   "outputs": [
    {
     "name": "stdout",
     "output_type": "stream",
     "text": [
      "Total parameters = 32*32*3*128+128 + 128*64+64 + 64*16 + 16 + 16*10+10 = 402810\n"
     ]
    }
   ],
   "source": [
    "print(\"Total parameters = 32*32*3*128+128 + 128*64+64 + 64*16 + 16 + 16*10+10 =\", 32*32*3*128+128 + 128*64+64 + 64*16 + 16 + 16*10+10 )"
   ]
  },
  {
   "cell_type": "markdown",
   "id": "c1401f82-c689-4777-a57d-74276c587cd7",
   "metadata": {},
   "source": [
    "# Tensorboard (visualising learning)"
   ]
  },
  {
   "cell_type": "markdown",
   "id": "2fcae7dc-dc12-4264-9ebc-b5aa20100847",
   "metadata": {},
   "source": [
    "Tensorboard will use a series of files. We'll put all that files in a folder in this directory: `tensorboard_cifar_logs` (added a constant `LOG_DIR` for this). A couple of imports were used: `os`, `TensorBoard`, `strftime`."
   ]
  },
  {
   "cell_type": "code",
   "execution_count": 89,
   "id": "d0f9d5cc-280d-4c9b-8648-9fc11653506b",
   "metadata": {},
   "outputs": [],
   "source": [
    "def get_tensorboard(model_name):\n",
    "\n",
    "    folder_name = f'{model_name} at {strftime(\"%H:%M\")}' # folder name creation including current timestamp as a name\n",
    "\n",
    "    dir_paths = os.path.join(LOG_DIR, folder_name)\n",
    "\n",
    "    # Python error handling:\n",
    "    try:\n",
    "        os.makedirs(dir_paths) # making the directory\n",
    "    except OSError as err:\n",
    "        print(err.strerror) # convert our error to a string, allowing us to print it out\n",
    "    else:\n",
    "        print('Successfully created directory', folder_name)\n",
    "\n",
    "    return TensorBoard(log_dir = dir_paths)"
   ]
  },
  {
   "cell_type": "markdown",
   "id": "2d2b0d5f-50c2-4d2e-a222-35903b3b8067",
   "metadata": {},
   "source": [
    "# Fit the model\n",
    "We'll use the [fit method](https://keras.io/api/models/model_training_apis/#fit-method) with some small datasets for doing training tests.\n",
    "\n",
    "#### Create a small dataset (for Illustration)"
   ]
  },
  {
   "cell_type": "code",
   "execution_count": 90,
   "id": "fe2e849e-a230-4a6f-a047-6534689a5d97",
   "metadata": {},
   "outputs": [],
   "source": [
    "x_train_xs = x_train[:SMALL_TRAIN_SIZE]\n",
    "y_train_xs = y_train[:SMALL_TRAIN_SIZE]"
   ]
  },
  {
   "cell_type": "markdown",
   "id": "49fc3202-6c62-45d3-845c-34bb26b9f345",
   "metadata": {},
   "source": [
    "Now for logging results to a TensorBoard, we need to open up a terminal and run:"
   ]
  },
  {
   "cell_type": "markdown",
   "id": "67c6cb38-1ad6-472d-b215-1628b5e96b98",
   "metadata": {},
   "source": [
    "#### Create an experiment for tracking training parameters and metrics\n",
    "\n",
    "Because some model types like TensorFlow result in autologging time series metrics, we'll create a TensorBoard instance:"
   ]
  },
  {
   "cell_type": "markdown",
   "id": "10c02005-7766-419d-9282-e9308df2dd9c",
   "metadata": {},
   "source": [
    "**NOTE**: As I'm not working locally but in GCP, I already created an experiment in order to visualise the TensorBoard."
   ]
  },
  {
   "cell_type": "markdown",
   "id": "b55ca6e5-c155-4293-ab21-a885540c98b7",
   "metadata": {},
   "source": [
    "Let's now initiate a Vertex experiment using the init() method:"
   ]
  },
  {
   "cell_type": "code",
   "execution_count": 91,
   "id": "a4f8ebdc-18bf-43ee-8195-3ae3f31b43ff",
   "metadata": {},
   "outputs": [],
   "source": [
    "vertexai.init(\n",
    "    project=PROJECT_ID,\n",
    "    location=REGION,\n",
    "    staging_bucket=BUCKET_URI,\n",
    "    experiment=AUTOLOGGED_EXPERIMENT_NAME,\n",
    "    experiment_tensorboard=EXP_TENSORBOARD,\n",
    "    experiment_description=\"autolog-tf-experiment-with-automatic-run\",\n",
    ")"
   ]
  },
  {
   "cell_type": "markdown",
   "id": "2679edbf-aac6-467c-960b-7ef76e55bc87",
   "metadata": {},
   "source": [
    "We'll enable Vertex autologging now. After calling vertex_ai.autolog(), any metrics and parameters from model training calls with supported ML frameworks (including TF) will be automatically logged to Vertex Experiments."
   ]
  },
  {
   "cell_type": "code",
   "execution_count": 92,
   "id": "089ae1eb-54b5-4d06-89f6-73f2c326440c",
   "metadata": {},
   "outputs": [],
   "source": [
    "vertexai.autolog()"
   ]
  },
  {
   "cell_type": "markdown",
   "id": "234e14a1-d8ca-40f0-b270-cc9cffe1250a",
   "metadata": {},
   "source": [
    "#### Fit the model\n",
    "\n",
    "We'll also use Tensorboard as a callback. [Callbacks](https://keras.io/api/callbacks/base_callback/#callback-class) can be passed to keras methods such as fit, evaluate, and predict in order to hook into the various stages of the model training and inference lifecycle."
   ]
  },
  {
   "cell_type": "markdown",
   "id": "faca4cab-43dd-45d3-b828-c8422eba1663",
   "metadata": {},
   "source": [
    "Epoch: When our entire dataset is passed through the NN at a single time. If we only have 1 epoch, then we’ll see just 1 epoch in our Tensorboard. As the loss function is an iterative process, we need to pass the entire dataset many times through our NN (this is, have several epochs) in order that our model gets improved using the loss function. Otherwise, we can split our dataset in batches, and train in on one batch at a time, taking multiple iterations in each batch. \n",
    "\n",
    "_Number of iterations for completing one epoch = Nr of Training Samples / Batch Size_"
   ]
  },
  {
   "cell_type": "code",
   "execution_count": 93,
   "id": "6312dfe2-abaf-4356-8eee-62e0c3505e96",
   "metadata": {},
   "outputs": [],
   "source": [
    "samples_per_batch = 1000"
   ]
  },
  {
   "cell_type": "code",
   "execution_count": 94,
   "id": "dce90a4b-09f6-4d5b-8f52-aceaa843871b",
   "metadata": {},
   "outputs": [
    {
     "name": "stdout",
     "output_type": "stream",
     "text": [
      "Successfully created directory Model 1 at 08:11\n",
      "Associating projects/1080686785400/locations/us-central1/metadataStores/default/contexts/cifar10-tf-experiment-tensorflow-2023-09-03-08-11-58-dfd5b to Experiment: cifar10-tf-experiment\n",
      "CPU times: user 13.5 s, sys: 352 ms, total: 13.9 s\n",
      "Wall time: 20.7 s\n"
     ]
    },
    {
     "data": {
      "text/plain": [
       "<keras.callbacks.History at 0x7f26d93fa620>"
      ]
     },
     "execution_count": 94,
     "metadata": {},
     "output_type": "execute_result"
    }
   ],
   "source": [
    "%%time\n",
    "nr_epochs = 150\n",
    "model_1.fit(x_train_xs, y_train_xs, batch_size=samples_per_batch, epochs=nr_epochs, \n",
    "            callbacks=[get_tensorboard('Model 1')], verbose=0) # verbose=0 clears epochs and accuracy from our output"
   ]
  },
  {
   "cell_type": "markdown",
   "id": "d5efee7a-9075-4189-b636-a5c66602c698",
   "metadata": {},
   "source": [
    "**NOTE 1:** We should expect the accuracy to improve towards the last epoch. If that doesn't happen, we might need to re-compile our model and rerun the training.\n",
    "\n",
    "**NOTE 2:** If in tensorboard we see that each training iteration is starting from the point where the last one finished, it means that the model is being saved on disk and being picked from there, so basically it's remembering how the model behaved with the weights from the previous run. If we want all iterations to start at the same point (which makes sense for comparing), then we should recompile our model before rerunning it.\n",
    "\n",
    "\n",
    "\n",
    "Now, let's see how the model behaves with new data, with the validation dataset."
   ]
  },
  {
   "cell_type": "code",
   "execution_count": 95,
   "id": "bff05feb-9815-40f5-b532-af7ed2f24958",
   "metadata": {},
   "outputs": [
    {
     "name": "stdout",
     "output_type": "stream",
     "text": [
      "Successfully created directory Model 1 at 08:12\n",
      "Associating projects/1080686785400/locations/us-central1/metadataStores/default/contexts/cifar10-tf-experiment-tensorflow-2023-09-03-08-12-19-55fad to Experiment: cifar10-tf-experiment\n",
      "CPU times: user 1min 6s, sys: 2.05 s, total: 1min 8s\n",
      "Wall time: 40.8 s\n"
     ]
    },
    {
     "data": {
      "text/plain": [
       "<keras.callbacks.History at 0x7f2798616dd0>"
      ]
     },
     "execution_count": 95,
     "metadata": {},
     "output_type": "execute_result"
    }
   ],
   "source": [
    "%%time\n",
    "nr_epochs = 150\n",
    "model_1.fit(x_train_xs, y_train_xs, batch_size=samples_per_batch, epochs=nr_epochs, \n",
    "            callbacks=[get_tensorboard('Model 1')], verbose=0, validation_data=(x_val, y_val)) # verbose=0 clears epochs and accuracy from our output"
   ]
  },
  {
   "cell_type": "markdown",
   "id": "9aefb32b-8802-4cf8-9557-b89c12c42d91",
   "metadata": {
    "tags": []
   },
   "source": [
    "# Avoiding Overfitting - Regularisation, Early Stopping, and Dropout\n",
    "\n",
    "Overfitting happens when the model learns your training data too well. Consequence of overfitting: poor performance with validation and other new datasets. Consequence of underfitting: not learning the patterns correctly."
   ]
  },
  {
   "cell_type": "code",
   "execution_count": 159,
   "id": "0a4a9873-d56d-4a5e-9f69-c87e63b8c6a5",
   "metadata": {},
   "outputs": [
    {
     "name": "stdout",
     "output_type": "stream",
     "text": [
      "/bin/bash: -c: line 1: syntax error near unexpected token `https://www.mathworks.com/discovery/overfitting/_jcr_content/mainParsys/image.adapt.full.medium.svg/1686825007300.svg'\n",
      "/bin/bash: -c: line 1: `[Overfitting](https://www.mathworks.com/discovery/overfitting/_jcr_content/mainParsys/image.adapt.full.medium.svg/1686825007300.svg)'\n"
     ]
    }
   ],
   "source": [
    "![Overfitting](https://www.mathworks.com/discovery/overfitting/_jcr_content/mainParsys/image.adapt.full.medium.svg/1686825007300.svg)"
   ]
  },
  {
   "cell_type": "markdown",
   "id": "c66825f5-b898-4f23-84d1-dc4373d9070d",
   "metadata": {},
   "source": [
    "There are different techniques to avoid overfitting:\n",
    "- Regularisation: A simple solution fits better than a complex one. \n",
    "- Early stopping: If validation accuracy isn’t improving, and if validation loss or error is no longer decreasing, then less stop training.\n",
    "- Dropout: If you ignore some randomly chosen neurons during training, this can help also\n",
    "\n",
    "We'll start by trying a dropout technique. Instead of defining a new model like we did before, let's use the [sequential model .add()](https://keras.io/guides/sequential_model/) method to learn a different approach. Let's compare it with the other coding approach, rembering how we created our model 1:"
   ]
  },
  {
   "cell_type": "markdown",
   "id": "44058b24-1a39-4a89-84d7-5d61dfe6ec8b",
   "metadata": {},
   "source": [
    "```\n",
    "model_1 = Sequential([\n",
    "    Dense(units=128, input_dim=TOTAL_INPUTS, activation='relu', name='m1_hidden1'),\n",
    "    Dense(units=64, activation='relu', name='m1_hidden2'), \n",
    "    Dense(units=16, activation='relu', name='m1_hidden3'),\n",
    "    Dense(units=10, activation='softmax', name='m1_output'),\n",
    "])\n",
    "\n",
    "model_1.compile(optimizer='adam', loss='sparse_categorical_crossentropy', metrics=['accuracy'])\n",
    "```"
   ]
  },
  {
   "cell_type": "markdown",
   "id": "68fdfe70-5e08-4742-8db9-5479ce1de86f",
   "metadata": {},
   "source": [
    "The only change is that we'll also add a dropout technique here:"
   ]
  },
  {
   "cell_type": "code",
   "execution_count": 96,
   "id": "94763732-18e2-44d3-99d7-c3609e751c4f",
   "metadata": {},
   "outputs": [],
   "source": [
    "model_2 = Sequential()\n",
    "model_2.add(Dropout(0.2, seed=42, input_shape=(TOTAL_INPUTS,))) # droput value is usually 20%-50%\n",
    "model_2.add(Dense(128, activation='relu', name='m2_hidden1'))\n",
    "model_2.add(Dense(64, activation='relu', name='m2_hidden2'))\n",
    "model_2.add(Dense(16, activation='relu', name='m2_hidden3'))\n",
    "model_2.add(Dense(10, activation='softmax', name='m2_output'))\n",
    " \n",
    "\n",
    "model_2.compile(optimizer='adam', loss='sparse_categorical_crossentropy', metrics=['accuracy'])"
   ]
  },
  {
   "cell_type": "code",
   "execution_count": 97,
   "id": "bc3c09e2-c203-4376-bf62-2b0129d240e1",
   "metadata": {},
   "outputs": [
    {
     "name": "stdout",
     "output_type": "stream",
     "text": [
      "Successfully created directory Model 2 at 08:13\n",
      "Associating projects/1080686785400/locations/us-central1/metadataStores/default/contexts/cifar10-tf-experiment-tensorflow-2023-09-03-08-13-00-06521 to Experiment: cifar10-tf-experiment\n",
      "CPU times: user 1min 11s, sys: 1.88 s, total: 1min 13s\n",
      "Wall time: 42.2 s\n"
     ]
    },
    {
     "data": {
      "text/plain": [
       "<keras.callbacks.History at 0x7f27995b1a20>"
      ]
     },
     "execution_count": 97,
     "metadata": {},
     "output_type": "execute_result"
    }
   ],
   "source": [
    "%%time\n",
    "nr_epochs = 150\n",
    "model_2.fit(x_train_xs, y_train_xs, batch_size=samples_per_batch, epochs=nr_epochs, \n",
    "            callbacks=[get_tensorboard('Model 2')], verbose=0, validation_data=(x_val, y_val)) # verbose=0 clears epochs and accuracy from our output"
   ]
  },
  {
   "cell_type": "markdown",
   "id": "58c0d72f-1c22-40e6-9c75-f7aa29f5a32c",
   "metadata": {},
   "source": [
    "Looking at the Tensorboard results, we see that there's an improvement: the loss function is in general lower, and it also goes up less drastically than before. But it still goes a bit up at the end, so let's try to use dropout in combination with early stopping to see if the results improve!"
   ]
  },
  {
   "cell_type": "markdown",
   "id": "fec31065-2bad-4891-8212-9d43d4e4fc48",
   "metadata": {},
   "source": [
    "**Challenge:** Create a model_3 that has 2 dropout layers. The second dropout layer should be added after the first hidden layer and have a dropout rate of 25%."
   ]
  },
  {
   "cell_type": "code",
   "execution_count": 98,
   "id": "f2528ea1-04cd-459c-8b4e-c5a120dc0cda",
   "metadata": {},
   "outputs": [],
   "source": [
    "model_3 = Sequential()\n",
    "model_3.add(Dropout(0.2, seed=42, input_shape=(TOTAL_INPUTS,)))\n",
    "model_3.add(Dense(128, activation='relu', name='m2_hidden1'))\n",
    "model_3.add(Dropout(0.25, seed=42)) # Input shape is automatically inferred by Keras\n",
    "model_3.add(Dense(64, activation='relu', name='m2_hidden2'))\n",
    "model_3.add(Dense(16, activation='relu', name='m2_hidden3'))\n",
    "model_3.add(Dense(10, activation='softmax', name='m2_output'))\n",
    " \n",
    "\n",
    "model_3.compile(optimizer='adam', loss='sparse_categorical_crossentropy', metrics=['accuracy'])"
   ]
  },
  {
   "cell_type": "markdown",
   "id": "50d83f1b-348a-40a1-972e-ef840aecc4cb",
   "metadata": {},
   "source": [
    "Let's now train our model with our whole dataset, not just with the small version of it. Let's compare 1 (no dropout), model 2 (1 dropout), and model 3 (2 dropouts) with this bigger dataset."
   ]
  },
  {
   "cell_type": "code",
   "execution_count": 99,
   "id": "76dd9711-9a1c-4387-bbb3-1f8417ba92e1",
   "metadata": {},
   "outputs": [
    {
     "name": "stdout",
     "output_type": "stream",
     "text": [
      "Successfully created directory Model 1 XL at 08:13\n",
      "Associating projects/1080686785400/locations/us-central1/metadataStores/default/contexts/cifar10-tf-experiment-tensorflow-2023-09-03-08-13-42-013be to Experiment: cifar10-tf-experiment\n",
      "CPU times: user 5min 37s, sys: 9.14 s, total: 5min 46s\n",
      "Wall time: 1min 58s\n"
     ]
    },
    {
     "data": {
      "text/plain": [
       "<keras.callbacks.History at 0x7f2798bef940>"
      ]
     },
     "execution_count": 99,
     "metadata": {},
     "output_type": "execute_result"
    }
   ],
   "source": [
    "%%time\n",
    "nr_epochs = 100\n",
    "model_1.fit(x_train, y_train, batch_size=samples_per_batch, epochs=nr_epochs, \n",
    "            callbacks=[get_tensorboard('Model 1 XL')], verbose=0, validation_data=(x_val, y_val)) # verbose=0 clears epochs and accuracy from our output"
   ]
  },
  {
   "cell_type": "code",
   "execution_count": 100,
   "id": "151d0556-56cd-4073-a4eb-decad3cd9c4b",
   "metadata": {},
   "outputs": [
    {
     "name": "stdout",
     "output_type": "stream",
     "text": [
      "Successfully created directory Model 2 XL at 08:15\n",
      "Associating projects/1080686785400/locations/us-central1/metadataStores/default/contexts/cifar10-tf-experiment-tensorflow-2023-09-03-08-15-40-c853c to Experiment: cifar10-tf-experiment\n",
      "CPU times: user 8min 5s, sys: 11.6 s, total: 8min 16s\n",
      "Wall time: 2min 39s\n"
     ]
    },
    {
     "data": {
      "text/plain": [
       "<keras.callbacks.History at 0x7f2722610850>"
      ]
     },
     "execution_count": 100,
     "metadata": {},
     "output_type": "execute_result"
    }
   ],
   "source": [
    "%%time\n",
    "nr_epochs = 100\n",
    "model_2.fit(x_train, y_train, batch_size=samples_per_batch, epochs=nr_epochs, \n",
    "            callbacks=[get_tensorboard('Model 2 XL')], verbose=0, validation_data=(x_val, y_val)) # verbose=0 clears epochs and accuracy from our output"
   ]
  },
  {
   "cell_type": "code",
   "execution_count": 101,
   "id": "b5fe571b-7588-4a61-b0f6-191c50e61f4f",
   "metadata": {},
   "outputs": [
    {
     "name": "stdout",
     "output_type": "stream",
     "text": [
      "Successfully created directory Model 3 XL at 08:18\n",
      "Associating projects/1080686785400/locations/us-central1/metadataStores/default/contexts/cifar10-tf-experiment-tensorflow-2023-09-03-08-18-20-dd156 to Experiment: cifar10-tf-experiment\n",
      "CPU times: user 8min 16s, sys: 11 s, total: 8min 27s\n",
      "Wall time: 2min 44s\n"
     ]
    },
    {
     "data": {
      "text/plain": [
       "<keras.callbacks.History at 0x7f2798c2e470>"
      ]
     },
     "execution_count": 101,
     "metadata": {},
     "output_type": "execute_result"
    }
   ],
   "source": [
    "%%time\n",
    "nr_epochs = 100\n",
    "model_3.fit(x_train, y_train, batch_size=samples_per_batch, epochs=nr_epochs, \n",
    "            callbacks=[get_tensorboard('Model 3 XL')], verbose=0, validation_data=(x_val, y_val)) # verbose=0 clears epochs and accuracy from our output"
   ]
  },
  {
   "cell_type": "markdown",
   "id": "47ae1ded-cc45-4c9e-8af2-d4ea7f3ce06e",
   "metadata": {},
   "source": [
    "**Conclusion**\n",
    "- When going from 1,000 examples to 40,000 examples, the accuracy went much better. Specifically:\n",
    "    - Model 2XL and expecially Model 3XL, the one with more amount of dropout, were the ones that learned the training data most slowly \n",
    "    - Seeing the accuracy in the validation dataset, we will see that the difference is much higher between the models with small amount of training data and the ones with a larger training datet.\n",
    "    - Still, we see that the loss of Model 1 XL comes back to increase at the end, so we should include some early stopping to reduce this overfitting. M2XL and M3XL seem to have a bit worse results, but we see their loss doesn't increase, which is a sign that they are overfitting less than M1XL\n",
    "  \n",
    "- In general, models trained with dropout take longer to train, but should give better accuracy in cases with overfitting (maybe we need to use it in combination with early stopping, though)\n"
   ]
  },
  {
   "cell_type": "markdown",
   "id": "c55e4129-8978-4af7-84c8-5ec7848beeaf",
   "metadata": {},
   "source": [
    "# Predictions on individual images"
   ]
  },
  {
   "cell_type": "code",
   "execution_count": 102,
   "id": "862a3f9d-2390-415e-ae33-ec11a10c854b",
   "metadata": {},
   "outputs": [
    {
     "data": {
      "text/plain": [
       "(10000, 3072)"
      ]
     },
     "execution_count": 102,
     "metadata": {},
     "output_type": "execute_result"
    }
   ],
   "source": [
    "x_val.shape"
   ]
  },
  {
   "cell_type": "markdown",
   "id": "db7ee85d-9942-4858-985c-4bfc580dc4b0",
   "metadata": {},
   "source": [
    "We have 10,000 images, and 3072 corresponds to all pixels of an image. Let's explore the first image:"
   ]
  },
  {
   "cell_type": "code",
   "execution_count": 103,
   "id": "425e0d8f-155d-4d4f-b1ea-f0cc1dee1def",
   "metadata": {},
   "outputs": [
    {
     "data": {
      "text/plain": [
       "array([0.231, 0.243, 0.247, ..., 0.482, 0.361, 0.282])"
      ]
     },
     "execution_count": 103,
     "metadata": {},
     "output_type": "execute_result"
    }
   ],
   "source": [
    "x_val[0]"
   ]
  },
  {
   "cell_type": "markdown",
   "id": "6c754cc9-4c04-4098-8adc-622ca10c5673",
   "metadata": {},
   "source": [
    "Let's convert this image from flattened to multi-dimensional, adding 1 extra dimension, so that we can use it individually for predictions (the model expects a 2D array):"
   ]
  },
  {
   "cell_type": "code",
   "execution_count": 104,
   "id": "8134f3e0-d97d-484a-9f30-254494ad755d",
   "metadata": {},
   "outputs": [
    {
     "data": {
      "text/plain": [
       "(1, 3072)"
      ]
     },
     "execution_count": 104,
     "metadata": {},
     "output_type": "execute_result"
    }
   ],
   "source": [
    "test_img = np.expand_dims(x_val[0], axis=0)\n",
    "test_img.shape"
   ]
  },
  {
   "cell_type": "code",
   "execution_count": 105,
   "id": "e8ba293d-6927-44bf-9183-09c91b75a587",
   "metadata": {},
   "outputs": [
    {
     "name": "stdout",
     "output_type": "stream",
     "text": [
      "1/1 [==============================] - 0s 54ms/step\n"
     ]
    },
    {
     "data": {
      "text/plain": [
       "array([[1.015e-02, 1.738e-03, 7.687e-02, 9.415e-02, 8.025e-02, 5.540e-02,\n",
       "        6.348e-01, 4.407e-02, 1.579e-04, 2.463e-03]], dtype=float32)"
      ]
     },
     "execution_count": 105,
     "metadata": {},
     "output_type": "execute_result"
    }
   ],
   "source": [
    "np.set_printoptions(precision=3) # formatting for just having 3 decimals\n",
    "model_2.predict(test_img)"
   ]
  },
  {
   "cell_type": "markdown",
   "id": "068033b5-f518-4397-a7f8-64c85e699393",
   "metadata": {},
   "source": [
    "These are the probabilities that our image is of each class. We see the 7th class is the most probable. Doing it more programatically:"
   ]
  },
  {
   "cell_type": "code",
   "execution_count": 106,
   "id": "16a2a3b8-3b38-4f2f-adcb-44078056a85f",
   "metadata": {},
   "outputs": [
    {
     "name": "stdout",
     "output_type": "stream",
     "text": [
      "1/1 [==============================] - 0s 20ms/step\n"
     ]
    },
    {
     "data": {
      "text/plain": [
       "array([6])"
      ]
     },
     "execution_count": 106,
     "metadata": {},
     "output_type": "execute_result"
    }
   ],
   "source": [
    "np.argmax(model_2.predict(test_img), axis=1)"
   ]
  },
  {
   "cell_type": "code",
   "execution_count": 107,
   "id": "4eaf0102-3b19-4e78-b95f-5adcb3158b8c",
   "metadata": {},
   "outputs": [
    {
     "data": {
      "text/plain": [
       "array([6], dtype=uint8)"
      ]
     },
     "execution_count": 107,
     "metadata": {},
     "output_type": "execute_result"
    }
   ],
   "source": [
    "y_val[0] # labels for evaluation dataset"
   ]
  },
  {
   "cell_type": "markdown",
   "id": "29ee10b1-4372-4967-8448-d29b5f97d81b",
   "metadata": {},
   "source": [
    "**Challenge:** Write a for loop where you print out the actual value and predicted value for the first 10 images in the validation dataset"
   ]
  },
  {
   "cell_type": "code",
   "execution_count": 108,
   "id": "1ab698a5-7fc7-473a-8928-24bf2ffb0b6c",
   "metadata": {},
   "outputs": [
    {
     "name": "stdout",
     "output_type": "stream",
     "text": [
      "Actual value: 6 vs. predicted: 6\n",
      "Actual value: 9 vs. predicted: 1\n",
      "Actual value: 9 vs. predicted: 9\n",
      "Actual value: 4 vs. predicted: 4\n",
      "Actual value: 1 vs. predicted: 0\n",
      "Actual value: 1 vs. predicted: 9\n",
      "Actual value: 2 vs. predicted: 2\n",
      "Actual value: 7 vs. predicted: 7\n",
      "Actual value: 8 vs. predicted: 8\n",
      "Actual value: 3 vs. predicted: 9\n"
     ]
    }
   ],
   "source": [
    "for i in range(10):\n",
    "    test_img = np.expand_dims(x_val[i], axis=0)\n",
    "    predicted_val = np.argmax(model_2.predict(test_img, verbose=0), axis=1)[0]\n",
    "    print(f'Actual value: {y_val[i][0]} vs. predicted: {predicted_val}')"
   ]
  },
  {
   "cell_type": "markdown",
   "id": "07ef50d7-990b-4232-bd38-3956f9e5410d",
   "metadata": {},
   "source": [
    "# Evaluation\n",
    "\n",
    "Our most accurate model at the evaluation dataset was model 2. Let's confirm the two metrics we calculated in the Tensorboard:"
   ]
  },
  {
   "cell_type": "code",
   "execution_count": 109,
   "id": "17753cf2-5ec1-4083-9221-210d16896c97",
   "metadata": {},
   "outputs": [
    {
     "data": {
      "text/plain": [
       "['loss', 'accuracy']"
      ]
     },
     "execution_count": 109,
     "metadata": {},
     "output_type": "execute_result"
    }
   ],
   "source": [
    "model_2.metrics_names"
   ]
  },
  {
   "cell_type": "markdown",
   "id": "3e1184cf-913e-4e15-834e-49aa0fe12aca",
   "metadata": {},
   "source": [
    "Now, we'll use Keras [evaluate() method](https://keras.io/api/models/model_training_apis/#evaluate-method). This method returns the loss value & metrics values for the model in test mode.."
   ]
  },
  {
   "cell_type": "code",
   "execution_count": 111,
   "id": "db6f01d7-1d67-4675-8403-2bd57e227fe2",
   "metadata": {},
   "outputs": [
    {
     "name": "stdout",
     "output_type": "stream",
     "text": [
      "313/313 [==============================] - 1s 2ms/step - loss: 1.4440 - accuracy: 0.4886\n",
      "Test loss is 1.44 and test accuracy is 48.9%\n"
     ]
    }
   ],
   "source": [
    "test_loss, test_accuracy = model_2.evaluate(x_test, y_test)\n",
    "print(f'Test loss is {test_loss:0.3} and test accuracy is {test_accuracy:0.1%}') # formatting with :"
   ]
  },
  {
   "cell_type": "markdown",
   "id": "78185b49-63a0-485b-abfb-6fcfa4112e2c",
   "metadata": {},
   "source": [
    "## Confusion Matrix"
   ]
  },
  {
   "cell_type": "code",
   "execution_count": 115,
   "id": "6b1f6301-6ac0-4095-9b26-0aa5b9f0f8ca",
   "metadata": {},
   "outputs": [
    {
     "name": "stdout",
     "output_type": "stream",
     "text": [
      "313/313 [==============================] - 1s 2ms/step\n"
     ]
    }
   ],
   "source": [
    "predictions = np.argmax(model_2.predict(x_test), axis=1)\n",
    "conf_matrix = confusion_matrix(y_true=y_test, y_pred=predictions)"
   ]
  },
  {
   "cell_type": "code",
   "execution_count": 116,
   "id": "64b16904-dff0-437b-a977-196c0ed8b82a",
   "metadata": {},
   "outputs": [
    {
     "data": {
      "text/plain": [
       "(10, 10)"
      ]
     },
     "execution_count": 116,
     "metadata": {},
     "output_type": "execute_result"
    }
   ],
   "source": [
    "conf_matrix.shape"
   ]
  },
  {
   "cell_type": "code",
   "execution_count": 117,
   "id": "6ec8507c-d1c5-43c3-bbee-c866ad502cf8",
   "metadata": {},
   "outputs": [
    {
     "name": "stdout",
     "output_type": "stream",
     "text": [
      "Our confusion matrix has 10 rows and 10 columns\n"
     ]
    }
   ],
   "source": [
    "nr_rows = conf_matrix.shape[0]\n",
    "nr_cols = conf_matrix.shape[1]\n",
    "print(f'Our confusion matrix has {nr_rows} rows and {nr_cols} columns')"
   ]
  },
  {
   "cell_type": "code",
   "execution_count": 118,
   "id": "ca826c14-46c3-4e4e-a67a-333ac741050f",
   "metadata": {},
   "outputs": [
    {
     "name": "stdout",
     "output_type": "stream",
     "text": [
      "Its max value is 701 and its min value is 3\n"
     ]
    }
   ],
   "source": [
    "print(f'Its max value is {conf_matrix.max()} and its min value is {conf_matrix.min()}')"
   ]
  },
  {
   "cell_type": "code",
   "execution_count": 129,
   "id": "e6acb016-7d87-47a0-a52d-4e549213fd27",
   "metadata": {},
   "outputs": [
    {
     "name": "stdout",
     "output_type": "stream",
     "text": [
      "Taking a look at the values of the first row of our Conf Matrix: [658  21  71  19  26   3  14  16 153  19]\n"
     ]
    }
   ],
   "source": [
    "print(f'Taking a look at the values of the first row of our Conf Matrix: {conf_matrix[0]}')"
   ]
  },
  {
   "cell_type": "code",
   "execution_count": 138,
   "id": "fccb930c-6c12-4fa1-a891-61b991e8aa18",
   "metadata": {},
   "outputs": [
    {
     "data": {
      "text/plain": [
       "<function matplotlib.pyplot.show(close=None, block=None)>"
      ]
     },
     "execution_count": 138,
     "metadata": {},
     "output_type": "execute_result"
    },
    {
     "data": {
      "image/png": "[encoded data removed]",
      "text/plain": [
       "<Figure size 1589x1589 with 2 Axes>"
      ]
     },
     "metadata": {},
     "output_type": "display_data"
    }
   ],
   "source": [
    "plt.figure(figsize=(7,7), dpi=227) # dpi scales to higher revolution\n",
    "plt.imshow(conf_matrix, cmap=plt.cm.Oranges)\n",
    "\n",
    "plt.title('Confusion Matrix', fontsize=16)\n",
    "plt.ylabel('Actual Labels', fontsize = 12)\n",
    "plt.xlabel('Predicted Labels', fontsize = 12)\n",
    "\n",
    "tick_marks = np.arange(NR_CLASSES)\n",
    "plt.yticks(tick_marks, LABEL_NAMES)\n",
    "plt.xticks(tick_marks, LABEL_NAMES)\n",
    "\n",
    "plt.colorbar()\n",
    "\n",
    "for i, j in itertools.product(range(nr_rows), range(nr_cols)): # range - we're starting at 0, until 9\n",
    "    plt.text(j, i, conf_matrix[i, j], # Note that (x,y) coordenates imply j, i (columns, rows)\n",
    "            horizontalalignment='center', # center numbers in the cells\n",
    "            color = 'white' if conf_matrix[i, j] > conf_matrix.max()/2 else 'black') # set a white color for numbers in dark cells\n",
    "\n",
    "plt.show"
   ]
  },
  {
   "cell_type": "markdown",
   "id": "634fedea-f2af-4494-a325-01085c29d30a",
   "metadata": {},
   "source": [
    "**NOTE - Visualisation tip:** For Confusion Matrixes, the Matplotlib colourmaps that work the best are the [sequential](https://matplotlib.org/stable/tutorials/colors/colormaps.html#sequential) ones. The darker the colours are, the higher the value is. So we see that ship images are the ones getting better predictions.\n",
    "\n",
    "To print the individual values of this confusion matrix, we created a nested for loop. For this, we used [`itertools`](https://docs.python.org/3/library/itertools.html), python functions that create iterators for computationally efficient looping."
   ]
  },
  {
   "cell_type": "markdown",
   "id": "488a2a44-efed-48fd-8ecf-6123e1ef2ced",
   "metadata": {},
   "source": [
    "**Challenge:** What do numbers down the diagonal represent? What do the other numbers (excluding the diagonal ones) in a single row represent? Try to identify false positives, false negatives, and true positives in the confusion matrix.\n",
    "- True positives: Values along the diagonal.\n",
    "- False positives: Columns (apart from diagonal). E.g. 'Plane' column (except diagonal) shows all images that were predicted as planes, but that were not actually a plane.\n",
    "- False negatives: Rows (apart from diagonal). E.g. 'Car' row (except diagonal) shows all images that were actually a car, but that were not classified as a car.\n",
    "\n",
    "Now, we're able to calculate our **precision** and **recall** scores:\n",
    "\n",
    "$$Recall = \\frac{True Positives}{True Positives + False Negatives} $$\n",
    "\n",
    "$$Precision = \\frac{True Positives}{True Positives + False Positives} $$"
   ]
  },
  {
   "cell_type": "code",
   "execution_count": 140,
   "id": "523548e2-8743-4cfa-a792-c349556eb6d7",
   "metadata": {},
   "outputs": [
    {
     "data": {
      "text/plain": [
       "array([658, 534, 412, 241, 444, 407, 520, 508, 701, 461])"
      ]
     },
     "execution_count": 140,
     "metadata": {},
     "output_type": "execute_result"
    }
   ],
   "source": [
    "true_positives = np.diag(conf_matrix)\n",
    "true_positives"
   ]
  },
  {
   "cell_type": "code",
   "execution_count": 143,
   "id": "c13337d9-f31d-4b4f-a7e4-901c3dfa79d8",
   "metadata": {},
   "outputs": [
    {
     "data": {
      "text/plain": [
       "array([0.658, 0.534, 0.412, 0.241, 0.444, 0.407, 0.52 , 0.508, 0.701,\n",
       "       0.461])"
      ]
     },
     "execution_count": 143,
     "metadata": {},
     "output_type": "execute_result"
    }
   ],
   "source": [
    "recall = true_positives / np.sum(conf_matrix, axis=1)\n",
    "recall # We'll have one recall score for each category"
   ]
  },
  {
   "cell_type": "code",
   "execution_count": 145,
   "id": "185d4b28-8894-4e79-9e3f-bef1481402ab",
   "metadata": {},
   "outputs": [
    {
     "data": {
      "text/plain": [
       "array([0.483, 0.671, 0.345, 0.335, 0.42 , 0.425, 0.52 , 0.614, 0.528,\n",
       "       0.607])"
      ]
     },
     "execution_count": 145,
     "metadata": {},
     "output_type": "execute_result"
    }
   ],
   "source": [
    "precision = true_positives / np.sum(conf_matrix, axis=0)\n",
    "precision # We'll have one precision score for each category"
   ]
  },
  {
   "cell_type": "markdown",
   "id": "6f6e2bb5-cc18-4549-868e-f96dda8f8e5e",
   "metadata": {},
   "source": [
    "Average numbers will give us the precision and recall of the model overall:"
   ]
  },
  {
   "cell_type": "code",
   "execution_count": 146,
   "id": "234e7e8d-6d7d-4ce3-abce-f437d48400ea",
   "metadata": {},
   "outputs": [
    {
     "name": "stdout",
     "output_type": "stream",
     "text": [
      "Model 2 recall score is 48.86% and its precision is 49.49%\n"
     ]
    }
   ],
   "source": [
    "avg_recall = np.mean(recall)\n",
    "avg_precision = np.mean(precision)\n",
    "print(f'Model 2 recall score is {avg_recall:.2%} and its precision is {avg_precision:.2%}')"
   ]
  },
  {
   "cell_type": "markdown",
   "id": "11a9c3b9-c778-4e3a-8670-faea87d4f6ff",
   "metadata": {},
   "source": [
    "Now, let's calculate the **F1 score**. F1 also measures our models accuracy, but it is still able to measure performance objetively when the class balance is skewed (as opposed to accuracy).\n",
    "$$F1 = 2 * \\frac{Precision * Recall}{Precision + Recall}  = \\frac{TP}{TP + \\frac{1}{2}(FP+FN)} $$"
   ]
  },
  {
   "cell_type": "code",
   "execution_count": 149,
   "id": "7b5cae97-156e-42f6-91be-ac44e49a5f81",
   "metadata": {},
   "outputs": [
    {
     "name": "stdout",
     "output_type": "stream",
     "text": [
      "Model 2 F1 score is 49.17%\n"
     ]
    }
   ],
   "source": [
    "f1_score = 2 * (avg_recall * avg_precision) / (avg_recall + avg_precision)\n",
    "print(f'Model 2 F1 score is {f1_score:.2%}')"
   ]
  },
  {
   "cell_type": "markdown",
   "id": "1dd60598-f01a-4016-afbd-c641601176ca",
   "metadata": {},
   "source": [
    "Why is our error still so high? We're using all our data right now. That's right, but we're using a multilayer perceptron, which is a quite simple model. We might improve performance using a more complex model like [Inception-Resnet-v2](https://es.mathworks.com/help/deeplearning/ref/inceptionresnetv2.html) or others. However, this perceptron works great for many other cases, so it's worthy to always give it a try."
   ]
  }
 ],
 "metadata": {
  "environment": {
   "kernel": "tf-bootcamp",
   "name": "tf2-gpu.2-11.m109",
   "type": "gcloud",
   "uri": "gcr.io/deeplearning-platform-release/tf2-gpu.2-11:m109"
  },
  "kernelspec": {
   "display_name": "tf-bootcamp",
   "language": "python",
   "name": "tf-bootcamp"
  },
  "language_info": {
   "codemirror_mode": {
    "name": "ipython",
    "version": 3
   },
   "file_extension": ".py",
   "mimetype": "text/x-python",
   "name": "python",
   "nbconvert_exporter": "python",
   "pygments_lexer": "ipython3",
   "version": "3.10.10"
  }
 },
 "nbformat": 4,
 "nbformat_minor": 5
}
